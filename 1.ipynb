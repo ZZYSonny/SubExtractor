{
 "cells": [
  {
   "cell_type": "code",
   "execution_count": 6,
   "metadata": {},
   "outputs": [],
   "source": [
    "import requests\n",
    "import json"
   ]
  },
  {
   "cell_type": "code",
   "execution_count": 51,
   "metadata": {},
   "outputs": [],
   "source": [
    "headers = {\n",
    "    'user-agent': 'Mozilla/5.0 (X11; Linux x86_64) AppleWebKit/537.36 (KHTML, like Gecko) Chrome/123.0.0.0 Safari/537.36',\n",
    "}\n",
    "data = '{\"password\":\"null\"}'\n",
    "response = requests.post('https://aniopen.an-i.workers.dev/2024-4/', headers=headers, data=data)"
   ]
  },
  {
   "cell_type": "code",
   "execution_count": 52,
   "metadata": {},
   "outputs": [
    {
     "data": {
      "text/plain": [
       "'{\"files\":[{\"mimeType\":\"video/mp4\",\"size\":\"588273992\",\"id\":\"1FYpCuHqO7uWoEaX0AbUJNEAatmfISYsB\",\"name\":\"[ANi] 轉生為第七王子，隨心所欲的魔法學習之路 - 02 [1080P][Baha][WEB-DL][AAC AVC][CHT].mp4\",\"modifiedTime\":\"2024-04-08T16:31:13.853Z\"},{\"mimeType\":\"video/mp4\",\"size\":\"564849119\",\"id\":\"1FK7lKUJZC_8j7jYCjM2PNGynectPcdcE\",\"name\":\"[ANi] Re：Monster - 02 [1080P][Baha][WEB-DL][AAC AVC][CHT].mp4\",\"modifiedTime\":\"2024-04-08T15:13:31.178Z\"},{\"mimeType\":\"video/mp4\",\"size\":\"430594844\",\"id\":\"1FA2Eyhba-uwNj0RHbjMp-qLGS0pHhPrd\",\"name\":\"[ANi] 從 Lv2 開始開外掛的前勇者候補過著悠哉異世界生活 - 01 [1080P][Baha][WEB-DL][AAC AVC][CHT].mp4\",\"modifiedTime\":\"2024-04-08T14:07:49.981Z\"},{\"mimeType\":\"video/mp4\",\"size\":\"769903641\",\"id\":\"1EsAP-Ks28N6NqibBHbPvGB3sj8hr0o1Z\",\"name\":\"[ANi] 神明渴求著遊戲。 - 02 [1080P][Baha][WEB-DL][AAC AVC][CHT].mp4\",\"modifiedTime\":\"2024-04-08T12:31:36.763Z\"},{\"mimeType\":\"video/mp4\",\"size\":\"439024991\",\"id\":\"1EVPhKadIhS1QvXykQb5TwdilYbiJfW1t\",\"name\":\"[ANi] 蔚藍檔案 The Animation - 01 [1080P][Baha][WEB-DL][AAC AVC][CHT].mp4\",\"modifiedTime\":\"2024-04-07T15:31:37.153Z\"},{\"mimeType\":\"video/mp4\",\"size\":\"420694478\",\"id\":\"1E-TDOoCOlYCCqH1BNlNKHBA0hrMBTf7p\",\"name\":\"[ANi] 轉生貴族憑鑑定技能扭轉人生 - 01 [1080P][Baha][WEB-DL][AAC AVC][CHT].mp4\",\"modifiedTime\":\"2024-04-07T15:02:34.667Z\"},{\"mimeType\":\"video/mp4\",\"size\":\"655807645\",\"id\":\"1DiMS1bo5NiwK3I99WwL3EnxvWw0dULhT\",\"name\":\"[ANi] 無職轉生～到了異世界就拿出真本事 第二季 - 13 [1080P][Baha][WEB-DL][AAC AVC][CHT].mp4\",\"modifiedTime\":\"2024-04-07T15:01:10.877Z\"},{\"mimeType\":\"video/mp4\",\"size\":\"703345716\",\"id\":\"1DeobS6hO1c1Nh_IPlvKDxuejCcb1EqMa\",\"name\":\"[ANi] 老夫老妻重返青春 - 01 [1080P][Baha][WEB-DL][AAC AVC][CHT].mp4\",\"modifiedTime\":\"2024-04-07T14:31:56.817Z\"},{\"mimeType\":\"video/mp4\",\"size\":\"406657783\",\"id\":\"1DXeRH25xpu8sGI6l-uHy4OZRAhVs7WGB\",\"name\":\"[ANi] 死神少爺與黑女僕 第三季 - 01 [1080P][Baha][WEB-DL][AAC AVC][CHT].mp4\",\"modifiedTime\":\"2024-04-07T14:01:41.051Z\"},{\"mimeType\":\"application/octet-stream\",\"size\":\"26099\",\"id\":\"1DO0aMFOs3Q4jSiWnCcjOAYlU5_cWs0sV\",\"name\":\"[ANi] 吹響吧！上低音號 第三季（僅限港澳台地區） - 01 [1080P][Bilibili][WEB-DL][AAC AVC][CHT CHS].vtt\",\"modifiedTime\":\"2024-04-07T10:18:29.472Z\"},{\"mimeType\":\"application/octet-stream\",\"size\":\"30959\",\"id\":\"1DNjpvHdGhs6kF8eY8SL3vv2lbH5CQ_nG\",\"name\":\"[ANi] 吹響吧！上低音號 第三季（僅限港澳台地區） - 01 [1080P][Bilibili][WEB-DL][AAC AVC][CHT CHS].srt\",\"modifiedTime\":\"2024-04-07T10:18:29.472Z\"},{\"mimeType\":\"video/mp4\",\"size\":\"301036497\",\"id\":\"1D307Iyn1ozUd8NOQZxFJpJV81oZKpwDZ\",\"name\":\"[ANi] 吹響吧！上低音號 第三季（僅限港澳台地區） - 01 [1080P][Bilibili][WEB-DL][AAC AVC][CHT CHS].mp4\",\"modifiedTime\":\"2024-04-07T10:18:23.471Z\"},{\"mimeType\":\"video/mp4\",\"size\":\"367919610\",\"id\":\"1CkT8C0Os0Qi-YJqo2_WSBVv1M_K6y23g\",\"name\":\"[ANi] 夜櫻家大作戰 - 01 [1080P][Baha][WEB-DL][AAC AVC][CHT].mp4\",\"modifiedTime\":\"2024-04-07T08:31:17.568Z\"},{\"mimeType\":\"video/mp4\",\"size\":\"500158528\",\"id\":\"1CUALnsPHDu3sVixssBFdm5c88W6H6Cjp\",\"name\":\"[ANi] 夜晚的水母不會游泳 - 01 [1080P][Baha][WEB-DL][AAC AVC][CHT].mp4\",\"modifiedTime\":\"2024-04-06T16:32:08.631Z\"},{\"mimeType\":\"video/mp4\",\"size\":\"879578368\",\"id\":\"1C6X32BH5fkqLR0pdve67ce4IS_3zAypY\",\"name\":\"[ANi] 龍族 - 特別篇 [1080P][Baha][WEB-DL][AAC AVC][CHT].mp4\",\"modifiedTime\":\"2024-04-06T15:01:35.777Z\"},{\"mimeType\":\"video/mp4\",\"size\":\"373689340\",\"id\":\"1BvLW7QqZpuReC5s8-VdDyharGAQoxGPg\",\"name\":\"[ANi] 單人房、日照一般、附天使。 - 01 [1080P][Baha][WEB-DL][AAC AVC][CHT].mp4\",\"modifiedTime\":\"2024-04-06T14:01:14.074Z\"},{\"mimeType\":\"video/mp4\",\"size\":\"834999904\",\"id\":\"1BgMKB12vdzNyOGzyEBj7zFi0ncKzUYkL\",\"name\":\"[ANi] 我的英雄學院 第七季 - 01 [1080P][Baha][WEB-DL][AAC AVC][CHT].mp4\",\"modifiedTime\":\"2024-04-06T09:31:30.655Z\"},{\"mimeType\":\"video/mp4\",\"size\":\"621679483\",\"id\":\"1B_lQmGIjGikOBbZvu5CJtW_7tCy2MEIm\",\"name\":\"[ANi] 蜻蛉高球 - 01 [1080P][Baha][WEB-DL][AAC AVC][CHT].mp4\",\"modifiedTime\":\"2024-04-06T01:31:46.073Z\"},{\"mimeType\":\"video/mp4\",\"size\":\"1100517043\",\"id\":\"1BPBlb9vrXdEy8AxArkOCNgP2fVYCZERO\",\"name\":\"[ANi] 極速星舞 - 01 [1080P][Baha][WEB-DL][AAC AVC][CHT].mp4\",\"modifiedTime\":\"2024-04-05T17:31:41.875Z\"},{\"mimeType\":\"video/mp4\",\"size\":\"572415674\",\"id\":\"1BK-L5lpmqmCYyV9UqJjybvwOWSBXaInZ\",\"name\":\"[ANi] 偶像大師 閃耀色彩 - 01 [1080P][Baha][WEB-DL][AAC AVC][CHT].mp4\",\"modifiedTime\":\"2024-04-05T17:03:34.726Z\"},{\"mimeType\":\"video/mp4\",\"size\":\"637477895\",\"id\":\"1BB3KYlaGL92LZqpTcCRpDKY19yUd2IyV\",\"name\":\"[ANi] 魔法科高中的劣等生 第三季 - 01 [1080P][Baha][WEB-DL][AAC AVC][CHT].mp4\",\"modifiedTime\":\"2024-04-05T16:02:15.108Z\"},{\"mimeType\":\"video/mp4\",\"size\":\"492178793\",\"id\":\"1B5tJRGUDEFXwVALRuNCxHEBvqALg6QUP\",\"name\":\"[ANi] 關於我轉生變成史萊姆這檔事 第三季 - 49 [1080P][Baha][WEB-DL][AAC AVC][CHT].mp4\",\"modifiedTime\":\"2024-04-05T15:00:55.214Z\"},{\"mimeType\":\"video/mp4\",\"size\":\"597395074\",\"id\":\"1Ax-CYzcAfFFqj6Ya0WrMmeW_NXZidoPt\",\"name\":\"[ANi] 星際莊的戀愛日記 - 01 [1080P][Baha][WEB-DL][AAC AVC][CHT].mp4\",\"modifiedTime\":\"2024-04-05T14:02:00.882Z\"},{\"mimeType\":\"video/mp4\",\"size\":\"71582604\",\"id\":\"1Aj3atbq8p6eRBRHil31hFHOM44Hsxn-J\",\"name\":\"[ANi] Love Live！虹咲學園 學園偶像同好會 短篇動畫 第二季 - 01 [1080P][Baha][WEB-DL][AAC AVC][CHT].mp4\",\"modifiedTime\":\"2024-04-05T13:01:05.862Z\"},{\"mimeType\":\"video/mp4\",\"size\":\"1005957391\",\"id\":\"19gd6gqiFAN-sUOZUl-JZEjPZLEABbet6\",\"name\":\"[ANi] 關於我們把節目全部丟給聲優那件事 - 01 [1080P][Baha][WEB-DL][AAC AVC][CHT].mp4\",\"modifiedTime\":\"2024-04-04T17:01:29.457Z\"},{\"mimeType\":\"video/mp4\",\"size\":\"570787057\",\"id\":\"19F9iOi4atG9dflImCmjzgClex1Sgl-B4\",\"name\":\"[ANi] 怪人的沙拉碗 - 01 [1080P][Baha][WEB-DL][AAC AVC][CHT].mp4\",\"modifiedTime\":\"2024-04-04T16:59:02.255Z\"},{\"mimeType\":\"video/mp4\",\"size\":\"560228725\",\"id\":\"18wjdkm0PAQdGE2_5lu9jEOaZPrKBEMiX\",\"name\":\"[ANi] WIND BREAKER—防風少年— - 01 [1080P][Baha][WEB-DL][AAC AVC][CHT].mp4\",\"modifiedTime\":\"2024-04-04T16:57:17.165Z\"},{\"mimeType\":\"video/mp4\",\"size\":\"354212688\",\"id\":\"18p8iwnOJveb7YH8o9ee28l6MmDNhG0ER\",\"name\":\"[ANi] 身為魔王的我娶了奴隸精靈為妻，該如何表白我的愛？ - 01 [1080P][Baha][WEB-DL][AAC AVC][CHT].mp4\",\"modifiedTime\":\"2024-04-04T16:31:11.686Z\"},{\"mimeType\":\"video/mp4\",\"size\":\"445846196\",\"id\":\"18SNFhaSQlwsvL5ihRll-8veMJxRLa-SN\",\"name\":\"[ANi] 搖曳露營△ 第三季 - 01 [1080P][Baha][WEB-DL][AAC AVC][CHT].mp4\",\"modifiedTime\":\"2024-04-04T14:31:18.770Z\"},{\"mimeType\":\"video/mp4\",\"size\":\"399229840\",\"id\":\"17yUUbsZ1h9FPyItU7oEXo3oKyrcnZGuo\",\"name\":\"[ANi] 王牌酒保 Glass of God - 01 [1080P][Baha][WEB-DL][AAC AVC][CHT].mp4\",\"modifiedTime\":\"2024-04-03T16:01:24.901Z\"},{\"mimeType\":\"video/mp4\",\"size\":\"788433320\",\"id\":\"17MBQdrB2K6biJi59kLANX0cCHmNU9b_X\",\"name\":\"[ANi] 轉生為第七王子，隨心所欲的魔法學習之路 - 01 [1080P][Baha][WEB-DL][AAC AVC][CHT].mp4\",\"modifiedTime\":\"2024-04-01T16:32:39.244Z\"},{\"mimeType\":\"video/mp4\",\"size\":\"510667986\",\"id\":\"16w12m4GkhtoDW_xrGFCqECnujWoyWN11\",\"name\":\"[ANi] Re：Monster - 01 [1080P][Baha][WEB-DL][AAC AVC][CHT].mp4\",\"modifiedTime\":\"2024-04-01T15:01:51.876Z\"},{\"mimeType\":\"video/mp4\",\"size\":\"521075990\",\"id\":\"16SNWGTMMfgYYssxy-JM1Mc0qihDinvQq\",\"name\":\"[ANi] 神明渴求著遊戲。 - 01 [1080P][Baha][WEB-DL][AAC AVC][CHT].mp4\",\"modifiedTime\":\"2024-04-01T12:31:33.916Z\"},{\"mimeType\":\"video/mp4\",\"size\":\"698321498\",\"id\":\"12swRTWAYAz-TGFGXLPt6oYhrig4LrTot\",\"name\":\"[ANi] 關於我轉生變成史萊姆這檔事 第三季 - 48.5 [1080P][Baha][WEB-DL][AAC AVC][CHT].mp4\",\"modifiedTime\":\"2024-03-30T14:54:19.325Z\"}]}'"
      ]
     },
     "execution_count": 52,
     "metadata": {},
     "output_type": "execute_result"
    }
   ],
   "source": [
    "response.text"
   ]
  },
  {
   "cell_type": "code",
   "execution_count": 53,
   "metadata": {},
   "outputs": [
    {
     "data": {
      "text/plain": [
       "[{'mimeType': 'video/mp4',\n",
       "  'size': '588273992',\n",
       "  'id': '1FYpCuHqO7uWoEaX0AbUJNEAatmfISYsB',\n",
       "  'name': '[ANi] 轉生為第七王子，隨心所欲的魔法學習之路 - 02 [1080P][Baha][WEB-DL][AAC AVC][CHT].mp4',\n",
       "  'modifiedTime': '2024-04-08T16:31:13.853Z'},\n",
       " {'mimeType': 'video/mp4',\n",
       "  'size': '564849119',\n",
       "  'id': '1FK7lKUJZC_8j7jYCjM2PNGynectPcdcE',\n",
       "  'name': '[ANi] Re：Monster - 02 [1080P][Baha][WEB-DL][AAC AVC][CHT].mp4',\n",
       "  'modifiedTime': '2024-04-08T15:13:31.178Z'},\n",
       " {'mimeType': 'video/mp4',\n",
       "  'size': '430594844',\n",
       "  'id': '1FA2Eyhba-uwNj0RHbjMp-qLGS0pHhPrd',\n",
       "  'name': '[ANi] 從 Lv2 開始開外掛的前勇者候補過著悠哉異世界生活 - 01 [1080P][Baha][WEB-DL][AAC AVC][CHT].mp4',\n",
       "  'modifiedTime': '2024-04-08T14:07:49.981Z'},\n",
       " {'mimeType': 'video/mp4',\n",
       "  'size': '769903641',\n",
       "  'id': '1EsAP-Ks28N6NqibBHbPvGB3sj8hr0o1Z',\n",
       "  'name': '[ANi] 神明渴求著遊戲。 - 02 [1080P][Baha][WEB-DL][AAC AVC][CHT].mp4',\n",
       "  'modifiedTime': '2024-04-08T12:31:36.763Z'},\n",
       " {'mimeType': 'video/mp4',\n",
       "  'size': '439024991',\n",
       "  'id': '1EVPhKadIhS1QvXykQb5TwdilYbiJfW1t',\n",
       "  'name': '[ANi] 蔚藍檔案 The Animation - 01 [1080P][Baha][WEB-DL][AAC AVC][CHT].mp4',\n",
       "  'modifiedTime': '2024-04-07T15:31:37.153Z'},\n",
       " {'mimeType': 'video/mp4',\n",
       "  'size': '420694478',\n",
       "  'id': '1E-TDOoCOlYCCqH1BNlNKHBA0hrMBTf7p',\n",
       "  'name': '[ANi] 轉生貴族憑鑑定技能扭轉人生 - 01 [1080P][Baha][WEB-DL][AAC AVC][CHT].mp4',\n",
       "  'modifiedTime': '2024-04-07T15:02:34.667Z'},\n",
       " {'mimeType': 'video/mp4',\n",
       "  'size': '655807645',\n",
       "  'id': '1DiMS1bo5NiwK3I99WwL3EnxvWw0dULhT',\n",
       "  'name': '[ANi] 無職轉生～到了異世界就拿出真本事 第二季 - 13 [1080P][Baha][WEB-DL][AAC AVC][CHT].mp4',\n",
       "  'modifiedTime': '2024-04-07T15:01:10.877Z'},\n",
       " {'mimeType': 'video/mp4',\n",
       "  'size': '703345716',\n",
       "  'id': '1DeobS6hO1c1Nh_IPlvKDxuejCcb1EqMa',\n",
       "  'name': '[ANi] 老夫老妻重返青春 - 01 [1080P][Baha][WEB-DL][AAC AVC][CHT].mp4',\n",
       "  'modifiedTime': '2024-04-07T14:31:56.817Z'},\n",
       " {'mimeType': 'video/mp4',\n",
       "  'size': '406657783',\n",
       "  'id': '1DXeRH25xpu8sGI6l-uHy4OZRAhVs7WGB',\n",
       "  'name': '[ANi] 死神少爺與黑女僕 第三季 - 01 [1080P][Baha][WEB-DL][AAC AVC][CHT].mp4',\n",
       "  'modifiedTime': '2024-04-07T14:01:41.051Z'},\n",
       " {'mimeType': 'application/octet-stream',\n",
       "  'size': '26099',\n",
       "  'id': '1DO0aMFOs3Q4jSiWnCcjOAYlU5_cWs0sV',\n",
       "  'name': '[ANi] 吹響吧！上低音號 第三季（僅限港澳台地區） - 01 [1080P][Bilibili][WEB-DL][AAC AVC][CHT CHS].vtt',\n",
       "  'modifiedTime': '2024-04-07T10:18:29.472Z'},\n",
       " {'mimeType': 'application/octet-stream',\n",
       "  'size': '30959',\n",
       "  'id': '1DNjpvHdGhs6kF8eY8SL3vv2lbH5CQ_nG',\n",
       "  'name': '[ANi] 吹響吧！上低音號 第三季（僅限港澳台地區） - 01 [1080P][Bilibili][WEB-DL][AAC AVC][CHT CHS].srt',\n",
       "  'modifiedTime': '2024-04-07T10:18:29.472Z'},\n",
       " {'mimeType': 'video/mp4',\n",
       "  'size': '301036497',\n",
       "  'id': '1D307Iyn1ozUd8NOQZxFJpJV81oZKpwDZ',\n",
       "  'name': '[ANi] 吹響吧！上低音號 第三季（僅限港澳台地區） - 01 [1080P][Bilibili][WEB-DL][AAC AVC][CHT CHS].mp4',\n",
       "  'modifiedTime': '2024-04-07T10:18:23.471Z'},\n",
       " {'mimeType': 'video/mp4',\n",
       "  'size': '367919610',\n",
       "  'id': '1CkT8C0Os0Qi-YJqo2_WSBVv1M_K6y23g',\n",
       "  'name': '[ANi] 夜櫻家大作戰 - 01 [1080P][Baha][WEB-DL][AAC AVC][CHT].mp4',\n",
       "  'modifiedTime': '2024-04-07T08:31:17.568Z'},\n",
       " {'mimeType': 'video/mp4',\n",
       "  'size': '500158528',\n",
       "  'id': '1CUALnsPHDu3sVixssBFdm5c88W6H6Cjp',\n",
       "  'name': '[ANi] 夜晚的水母不會游泳 - 01 [1080P][Baha][WEB-DL][AAC AVC][CHT].mp4',\n",
       "  'modifiedTime': '2024-04-06T16:32:08.631Z'},\n",
       " {'mimeType': 'video/mp4',\n",
       "  'size': '879578368',\n",
       "  'id': '1C6X32BH5fkqLR0pdve67ce4IS_3zAypY',\n",
       "  'name': '[ANi] 龍族 - 特別篇 [1080P][Baha][WEB-DL][AAC AVC][CHT].mp4',\n",
       "  'modifiedTime': '2024-04-06T15:01:35.777Z'},\n",
       " {'mimeType': 'video/mp4',\n",
       "  'size': '373689340',\n",
       "  'id': '1BvLW7QqZpuReC5s8-VdDyharGAQoxGPg',\n",
       "  'name': '[ANi] 單人房、日照一般、附天使。 - 01 [1080P][Baha][WEB-DL][AAC AVC][CHT].mp4',\n",
       "  'modifiedTime': '2024-04-06T14:01:14.074Z'},\n",
       " {'mimeType': 'video/mp4',\n",
       "  'size': '834999904',\n",
       "  'id': '1BgMKB12vdzNyOGzyEBj7zFi0ncKzUYkL',\n",
       "  'name': '[ANi] 我的英雄學院 第七季 - 01 [1080P][Baha][WEB-DL][AAC AVC][CHT].mp4',\n",
       "  'modifiedTime': '2024-04-06T09:31:30.655Z'},\n",
       " {'mimeType': 'video/mp4',\n",
       "  'size': '621679483',\n",
       "  'id': '1B_lQmGIjGikOBbZvu5CJtW_7tCy2MEIm',\n",
       "  'name': '[ANi] 蜻蛉高球 - 01 [1080P][Baha][WEB-DL][AAC AVC][CHT].mp4',\n",
       "  'modifiedTime': '2024-04-06T01:31:46.073Z'},\n",
       " {'mimeType': 'video/mp4',\n",
       "  'size': '1100517043',\n",
       "  'id': '1BPBlb9vrXdEy8AxArkOCNgP2fVYCZERO',\n",
       "  'name': '[ANi] 極速星舞 - 01 [1080P][Baha][WEB-DL][AAC AVC][CHT].mp4',\n",
       "  'modifiedTime': '2024-04-05T17:31:41.875Z'},\n",
       " {'mimeType': 'video/mp4',\n",
       "  'size': '572415674',\n",
       "  'id': '1BK-L5lpmqmCYyV9UqJjybvwOWSBXaInZ',\n",
       "  'name': '[ANi] 偶像大師 閃耀色彩 - 01 [1080P][Baha][WEB-DL][AAC AVC][CHT].mp4',\n",
       "  'modifiedTime': '2024-04-05T17:03:34.726Z'},\n",
       " {'mimeType': 'video/mp4',\n",
       "  'size': '637477895',\n",
       "  'id': '1BB3KYlaGL92LZqpTcCRpDKY19yUd2IyV',\n",
       "  'name': '[ANi] 魔法科高中的劣等生 第三季 - 01 [1080P][Baha][WEB-DL][AAC AVC][CHT].mp4',\n",
       "  'modifiedTime': '2024-04-05T16:02:15.108Z'},\n",
       " {'mimeType': 'video/mp4',\n",
       "  'size': '492178793',\n",
       "  'id': '1B5tJRGUDEFXwVALRuNCxHEBvqALg6QUP',\n",
       "  'name': '[ANi] 關於我轉生變成史萊姆這檔事 第三季 - 49 [1080P][Baha][WEB-DL][AAC AVC][CHT].mp4',\n",
       "  'modifiedTime': '2024-04-05T15:00:55.214Z'},\n",
       " {'mimeType': 'video/mp4',\n",
       "  'size': '597395074',\n",
       "  'id': '1Ax-CYzcAfFFqj6Ya0WrMmeW_NXZidoPt',\n",
       "  'name': '[ANi] 星際莊的戀愛日記 - 01 [1080P][Baha][WEB-DL][AAC AVC][CHT].mp4',\n",
       "  'modifiedTime': '2024-04-05T14:02:00.882Z'},\n",
       " {'mimeType': 'video/mp4',\n",
       "  'size': '71582604',\n",
       "  'id': '1Aj3atbq8p6eRBRHil31hFHOM44Hsxn-J',\n",
       "  'name': '[ANi] Love Live！虹咲學園 學園偶像同好會 短篇動畫 第二季 - 01 [1080P][Baha][WEB-DL][AAC AVC][CHT].mp4',\n",
       "  'modifiedTime': '2024-04-05T13:01:05.862Z'},\n",
       " {'mimeType': 'video/mp4',\n",
       "  'size': '1005957391',\n",
       "  'id': '19gd6gqiFAN-sUOZUl-JZEjPZLEABbet6',\n",
       "  'name': '[ANi] 關於我們把節目全部丟給聲優那件事 - 01 [1080P][Baha][WEB-DL][AAC AVC][CHT].mp4',\n",
       "  'modifiedTime': '2024-04-04T17:01:29.457Z'},\n",
       " {'mimeType': 'video/mp4',\n",
       "  'size': '570787057',\n",
       "  'id': '19F9iOi4atG9dflImCmjzgClex1Sgl-B4',\n",
       "  'name': '[ANi] 怪人的沙拉碗 - 01 [1080P][Baha][WEB-DL][AAC AVC][CHT].mp4',\n",
       "  'modifiedTime': '2024-04-04T16:59:02.255Z'},\n",
       " {'mimeType': 'video/mp4',\n",
       "  'size': '560228725',\n",
       "  'id': '18wjdkm0PAQdGE2_5lu9jEOaZPrKBEMiX',\n",
       "  'name': '[ANi] WIND BREAKER—防風少年— - 01 [1080P][Baha][WEB-DL][AAC AVC][CHT].mp4',\n",
       "  'modifiedTime': '2024-04-04T16:57:17.165Z'},\n",
       " {'mimeType': 'video/mp4',\n",
       "  'size': '354212688',\n",
       "  'id': '18p8iwnOJveb7YH8o9ee28l6MmDNhG0ER',\n",
       "  'name': '[ANi] 身為魔王的我娶了奴隸精靈為妻，該如何表白我的愛？ - 01 [1080P][Baha][WEB-DL][AAC AVC][CHT].mp4',\n",
       "  'modifiedTime': '2024-04-04T16:31:11.686Z'},\n",
       " {'mimeType': 'video/mp4',\n",
       "  'size': '445846196',\n",
       "  'id': '18SNFhaSQlwsvL5ihRll-8veMJxRLa-SN',\n",
       "  'name': '[ANi] 搖曳露營△ 第三季 - 01 [1080P][Baha][WEB-DL][AAC AVC][CHT].mp4',\n",
       "  'modifiedTime': '2024-04-04T14:31:18.770Z'},\n",
       " {'mimeType': 'video/mp4',\n",
       "  'size': '399229840',\n",
       "  'id': '17yUUbsZ1h9FPyItU7oEXo3oKyrcnZGuo',\n",
       "  'name': '[ANi] 王牌酒保 Glass of God - 01 [1080P][Baha][WEB-DL][AAC AVC][CHT].mp4',\n",
       "  'modifiedTime': '2024-04-03T16:01:24.901Z'},\n",
       " {'mimeType': 'video/mp4',\n",
       "  'size': '788433320',\n",
       "  'id': '17MBQdrB2K6biJi59kLANX0cCHmNU9b_X',\n",
       "  'name': '[ANi] 轉生為第七王子，隨心所欲的魔法學習之路 - 01 [1080P][Baha][WEB-DL][AAC AVC][CHT].mp4',\n",
       "  'modifiedTime': '2024-04-01T16:32:39.244Z'},\n",
       " {'mimeType': 'video/mp4',\n",
       "  'size': '510667986',\n",
       "  'id': '16w12m4GkhtoDW_xrGFCqECnujWoyWN11',\n",
       "  'name': '[ANi] Re：Monster - 01 [1080P][Baha][WEB-DL][AAC AVC][CHT].mp4',\n",
       "  'modifiedTime': '2024-04-01T15:01:51.876Z'},\n",
       " {'mimeType': 'video/mp4',\n",
       "  'size': '521075990',\n",
       "  'id': '16SNWGTMMfgYYssxy-JM1Mc0qihDinvQq',\n",
       "  'name': '[ANi] 神明渴求著遊戲。 - 01 [1080P][Baha][WEB-DL][AAC AVC][CHT].mp4',\n",
       "  'modifiedTime': '2024-04-01T12:31:33.916Z'},\n",
       " {'mimeType': 'video/mp4',\n",
       "  'size': '698321498',\n",
       "  'id': '12swRTWAYAz-TGFGXLPt6oYhrig4LrTot',\n",
       "  'name': '[ANi] 關於我轉生變成史萊姆這檔事 第三季 - 48.5 [1080P][Baha][WEB-DL][AAC AVC][CHT].mp4',\n",
       "  'modifiedTime': '2024-03-30T14:54:19.325Z'}]"
      ]
     },
     "execution_count": 53,
     "metadata": {},
     "output_type": "execute_result"
    }
   ],
   "source": [
    "json.loads(response.text)['files']"
   ]
  },
  {
   "cell_type": "code",
   "execution_count": 66,
   "metadata": {},
   "outputs": [
    {
     "data": {
      "text/plain": [
       "[]"
      ]
     },
     "execution_count": 66,
     "metadata": {},
     "output_type": "execute_result"
    }
   ],
   "source": [
    "a.findall(\"anime:size\")"
   ]
  },
  {
   "cell_type": "code",
   "execution_count": null,
   "metadata": {},
   "outputs": [],
   "source": []
  },
  {
   "cell_type": "code",
   "execution_count": 29,
   "metadata": {},
   "outputs": [],
   "source": [
    "import xml.etree.ElementTree as ET"
   ]
  },
  {
   "cell_type": "code",
   "execution_count": 56,
   "metadata": {},
   "outputs": [],
   "source": [
    "response = requests.get(f'https://api.ani.rip/ani-download.xml', headers=headers)"
   ]
  },
  {
   "cell_type": "code",
   "execution_count": 67,
   "metadata": {},
   "outputs": [],
   "source": [
    "item = ET.ElementTree(ET.fromstring(response.text)).findall(\"./channel/item\")[0]"
   ]
  },
  {
   "cell_type": "code",
   "execution_count": 75,
   "metadata": {},
   "outputs": [
    {
     "data": {
      "text/plain": [
       "'592.9'"
      ]
     },
     "execution_count": 75,
     "metadata": {},
     "output_type": "execute_result"
    }
   ],
   "source": []
  },
  {
   "cell_type": "code",
   "execution_count": 69,
   "metadata": {},
   "outputs": [
    {
     "name": "stdout",
     "output_type": "stream",
     "text": [
      "<Element 'title' at 0x74f4e94418f0>\n",
      "<Element 'link' at 0x74f4e94401d0>\n",
      "<Element 'guid' at 0x74f4e9440130>\n",
      "<Element 'pubDate' at 0x74f4e9440d10>\n",
      "<Element '{https://open.ani-download.workers.dev}size' at 0x74f4e94405e0>\n"
     ]
    }
   ],
   "source": [
    "for x in item:\n",
    "    print(x)"
   ]
  },
  {
   "cell_type": "code",
   "execution_count": 28,
   "metadata": {},
   "outputs": [
    {
     "data": {
      "text/plain": [
       "'<?xml version=\"1.0\" encoding=\"UTF-8\"?><rss xmlns:dc=\"http://purl.org/dc/elements/1.1/\" xmlns:content=\"http://purl.org/rss/1.0/modules/content/\" xmlns:atom=\"http://www.w3.org/2005/Atom\" version=\"2.0\" xmlns:anime=\"https://open.ani-download.workers.dev\"><channel><title><![CDATA[ANi Download API]]></title><description><![CDATA[ANi RSS for Share Anime]]></description><link>https://open.ani.rip</link><generator>RSS By ANi API</generator><lastBuildDate>Mon, 08 Apr 2024 16:31:19 GMT</lastBuildDate><atom:link href=\"https://api.ani.rip/ani-download.xml\" rel=\"self\" type=\"application/rss+xml\"/><item><title><![CDATA[[ANi] 蜻蛉高球 - 01 [1080P][Baha][WEB-DL][AAC AVC][CHT].mp4]]></title><link>https://resources.ani.rip/2024-4/%5BANi%5D%20%E8%9C%BB%E8%9B%89%E9%AB%98%E7%90%83%20-%2001%20%5B1080P%5D%5BBaha%5D%5BWEB-DL%5D%5BAAC%20AVC%5D%5BCHT%5D.mp4?d=true</link><guid isPermaLink=\"true\">https://resources.ani.rip/2024-4/%5BANi%5D%20%E8%9C%BB%E8%9B%89%E9%AB%98%E7%90%83%20-%2001%20%5B1080P%5D%5BBaha%5D%5BWEB-DL%5D%5BAAC%20AVC%5D%5BCHT%5D.mp4?d=true</guid><pubDate>Sat, 06 Apr 2024 03:11:18 GMT</pubDate><anime:size>592.9  MB</anime:size></item><item><title><![CDATA[[ANi] 極速星舞 - 01 [1080P][Baha][WEB-DL][AAC AVC][CHT].mp4]]></title><link>https://resources.ani.rip/2024-4/%5BANi%5D%20%E6%A5%B5%E9%80%9F%E6%98%9F%E8%88%9E%20-%2001%20%5B1080P%5D%5BBaha%5D%5BWEB-DL%5D%5BAAC%20AVC%5D%5BCHT%5D.mp4?d=true</link><guid isPermaLink=\"true\">https://resources.ani.rip/2024-4/%5BANi%5D%20%E6%A5%B5%E9%80%9F%E6%98%9F%E8%88%9E%20-%2001%20%5B1080P%5D%5BBaha%5D%5BWEB-DL%5D%5BAAC%20AVC%5D%5BCHT%5D.mp4?d=true</guid><pubDate>Sat, 06 Apr 2024 03:11:18 GMT</pubDate><anime:size>1.0  GB</anime:size></item><item><title><![CDATA[[ANi] 偶像大師 閃耀色彩 - 01 [1080P][Baha][WEB-DL][AAC AVC][CHT].mp4]]></title><link>https://resources.ani.rip/2024-4/%5BANi%5D%20%E5%81%B6%E5%83%8F%E5%A4%A7%E5%B8%AB%20%E9%96%83%E8%80%80%E8%89%B2%E5%BD%A9%20-%2001%20%5B1080P%5D%5BBaha%5D%5BWEB-DL%5D%5BAAC%20AVC%5D%5BCHT%5D.mp4?d=true</link><guid isPermaLink=\"true\">https://resources.ani.rip/2024-4/%5BANi%5D%20%E5%81%B6%E5%83%8F%E5%A4%A7%E5%B8%AB%20%E9%96%83%E8%80%80%E8%89%B2%E5%BD%A9%20-%2001%20%5B1080P%5D%5BBaha%5D%5BWEB-DL%5D%5BAAC%20AVC%5D%5BCHT%5D.mp4?d=true</guid><pubDate>Sat, 06 Apr 2024 03:11:18 GMT</pubDate><anime:size>545.9  MB</anime:size></item><item><title><![CDATA[[ANi] 魔法科高中的劣等生 第三季 - 01 [1080P][Baha][WEB-DL][AAC AVC][CHT].mp4]]></title><link>https://resources.ani.rip/2024-4/%5BANi%5D%20%E9%AD%94%E6%B3%95%E7%A7%91%E9%AB%98%E4%B8%AD%E7%9A%84%E5%8A%A3%E7%AD%89%E7%94%9F%20%E7%AC%AC%E4%B8%89%E5%AD%A3%20-%2001%20%5B1080P%5D%5BBaha%5D%5BWEB-DL%5D%5BAAC%20AVC%5D%5BCHT%5D.mp4?d=true</link><guid isPermaLink=\"true\">https://resources.ani.rip/2024-4/%5BANi%5D%20%E9%AD%94%E6%B3%95%E7%A7%91%E9%AB%98%E4%B8%AD%E7%9A%84%E5%8A%A3%E7%AD%89%E7%94%9F%20%E7%AC%AC%E4%B8%89%E5%AD%A3%20-%2001%20%5B1080P%5D%5BBaha%5D%5BWEB-DL%5D%5BAAC%20AVC%5D%5BCHT%5D.mp4?d=true</guid><pubDate>Sat, 06 Apr 2024 03:11:18 GMT</pubDate><anime:size>607.9  MB</anime:size></item><item><title><![CDATA[[ANi] 關於我轉生變成史萊姆這檔事 第三季 - 49 [1080P][Baha][WEB-DL][AAC AVC][CHT].mp4]]></title><link>https://resources.ani.rip/2024-4/%5BANi%5D%20%E9%97%9C%E6%96%BC%E6%88%91%E8%BD%89%E7%94%9F%E8%AE%8A%E6%88%90%E5%8F%B2%E8%90%8A%E5%A7%86%E9%80%99%E6%AA%94%E4%BA%8B%20%E7%AC%AC%E4%B8%89%E5%AD%A3%20-%2049%20%5B1080P%5D%5BBaha%5D%5BWEB-DL%5D%5BAAC%20AVC%5D%5BCHT%5D.mp4?d=true</link><guid isPermaLink=\"true\">https://resources.ani.rip/2024-4/%5BANi%5D%20%E9%97%9C%E6%96%BC%E6%88%91%E8%BD%89%E7%94%9F%E8%AE%8A%E6%88%90%E5%8F%B2%E8%90%8A%E5%A7%86%E9%80%99%E6%AA%94%E4%BA%8B%20%E7%AC%AC%E4%B8%89%E5%AD%A3%20-%2049%20%5B1080P%5D%5BBaha%5D%5BWEB-DL%5D%5BAAC%20AVC%5D%5BCHT%5D.mp4?d=true</guid><pubDate>Sat, 06 Apr 2024 03:11:18 GMT</pubDate><anime:size>469.4  MB</anime:size></item><item><title><![CDATA[[ANi] 星際莊的戀愛日記 - 01 [1080P][Baha][WEB-DL][AAC AVC][CHT].mp4]]></title><link>https://resources.ani.rip/2024-4/%5BANi%5D%20%E6%98%9F%E9%9A%9B%E8%8E%8A%E7%9A%84%E6%88%80%E6%84%9B%E6%97%A5%E8%A8%98%20-%2001%20%5B1080P%5D%5BBaha%5D%5BWEB-DL%5D%5BAAC%20AVC%5D%5BCHT%5D.mp4?d=true</link><guid isPermaLink=\"true\">https://resources.ani.rip/2024-4/%5BANi%5D%20%E6%98%9F%E9%9A%9B%E8%8E%8A%E7%9A%84%E6%88%80%E6%84%9B%E6%97%A5%E8%A8%98%20-%2001%20%5B1080P%5D%5BBaha%5D%5BWEB-DL%5D%5BAAC%20AVC%5D%5BCHT%5D.mp4?d=true</guid><pubDate>Sat, 06 Apr 2024 03:11:18 GMT</pubDate><anime:size>569.7  MB</anime:size></item><item><title><![CDATA[[ANi] Love Live！虹咲學園 學園偶像同好會 短篇動畫 第二季 - 01 [1080P][Baha][WEB-DL][AAC AVC][CHT].mp4]]></title><link>https://resources.ani.rip/2024-4/%5BANi%5D%20Love%20Live%EF%BC%81%E8%99%B9%E5%92%B2%E5%AD%B8%E5%9C%92%20%E5%AD%B8%E5%9C%92%E5%81%B6%E5%83%8F%E5%90%8C%E5%A5%BD%E6%9C%83%20%E7%9F%AD%E7%AF%87%E5%8B%95%E7%95%AB%20%E7%AC%AC%E4%BA%8C%E5%AD%A3%20-%2001%20%5B1080P%5D%5BBaha%5D%5BWEB-DL%5D%5BAAC%20AVC%5D%5BCHT%5D.mp4?d=true</link><guid isPermaLink=\"true\">https://resources.ani.rip/2024-4/%5BANi%5D%20Love%20Live%EF%BC%81%E8%99%B9%E5%92%B2%E5%AD%B8%E5%9C%92%20%E5%AD%B8%E5%9C%92%E5%81%B6%E5%83%8F%E5%90%8C%E5%A5%BD%E6%9C%83%20%E7%9F%AD%E7%AF%87%E5%8B%95%E7%95%AB%20%E7%AC%AC%E4%BA%8C%E5%AD%A3%20-%2001%20%5B1080P%5D%5BBaha%5D%5BWEB-DL%5D%5BAAC%20AVC%5D%5BCHT%5D.mp4?d=true</guid><pubDate>Sat, 06 Apr 2024 03:11:18 GMT</pubDate><anime:size>68.3  MB</anime:size></item><item><title><![CDATA[[ANi] 小酒館 Basue - 13 [1080P][Baha][WEB-DL][AAC AVC][CHT].mp4]]></title><link>https://resources.ani.rip/2024-1/%5BANi%5D%20%E5%B0%8F%E9%85%92%E9%A4%A8%20Basue%20-%2013%20%5B1080P%5D%5BBaha%5D%5BWEB-DL%5D%5BAAC%20AVC%5D%5BCHT%5D.mp4?d=true</link><guid isPermaLink=\"true\">https://resources.ani.rip/2024-1/%5BANi%5D%20%E5%B0%8F%E9%85%92%E9%A4%A8%20Basue%20-%2013%20%5B1080P%5D%5BBaha%5D%5BWEB-DL%5D%5BAAC%20AVC%5D%5BCHT%5D.mp4?d=true</guid><pubDate>Sat, 06 Apr 2024 03:11:18 GMT</pubDate><anime:size>492.3  MB</anime:size></item><item><title><![CDATA[[ANi] 魔女與野獸 - 12 [1080P][Baha][WEB-DL][AAC AVC][CHT].mp4]]></title><link>https://resources.ani.rip/2024-1/%5BANi%5D%20%E9%AD%94%E5%A5%B3%E8%88%87%E9%87%8E%E7%8D%B8%20-%2012%20%5B1080P%5D%5BBaha%5D%5BWEB-DL%5D%5BAAC%20AVC%5D%5BCHT%5D.mp4?d=true</link><guid isPermaLink=\"true\">https://resources.ani.rip/2024-1/%5BANi%5D%20%E9%AD%94%E5%A5%B3%E8%88%87%E9%87%8E%E7%8D%B8%20-%2012%20%5B1080P%5D%5BBaha%5D%5BWEB-DL%5D%5BAAC%20AVC%5D%5BCHT%5D.mp4?d=true</guid><pubDate>Sat, 06 Apr 2024 03:11:18 GMT</pubDate><anime:size>514.3  MB</anime:size></item><item><title><![CDATA[[ANi] 關於我們把節目全部丟給聲優那件事 - 01 [1080P][Baha][WEB-DL][AAC AVC][CHT].mp4]]></title><link>https://resources.ani.rip/2024-4/%5BANi%5D%20%E9%97%9C%E6%96%BC%E6%88%91%E5%80%91%E6%8A%8A%E7%AF%80%E7%9B%AE%E5%85%A8%E9%83%A8%E4%B8%9F%E7%B5%A6%E8%81%B2%E5%84%AA%E9%82%A3%E4%BB%B6%E4%BA%8B%20-%2001%20%5B1080P%5D%5BBaha%5D%5BWEB-DL%5D%5BAAC%20AVC%5D%5BCHT%5D.mp4?d=true</link><guid isPermaLink=\"true\">https://resources.ani.rip/2024-4/%5BANi%5D%20%E9%97%9C%E6%96%BC%E6%88%91%E5%80%91%E6%8A%8A%E7%AF%80%E7%9B%AE%E5%85%A8%E9%83%A8%E4%B8%9F%E7%B5%A6%E8%81%B2%E5%84%AA%E9%82%A3%E4%BB%B6%E4%BA%8B%20-%2001%20%5B1080P%5D%5BBaha%5D%5BWEB-DL%5D%5BAAC%20AVC%5D%5BCHT%5D.mp4?d=true</guid><pubDate>Sat, 06 Apr 2024 03:11:18 GMT</pubDate><anime:size>959.4  MB</anime:size></item><item><title><![CDATA[[ANi] 我的英雄學院 第七季 - 01 [1080P][Baha][WEB-DL][AAC AVC][CHT].mp4]]></title><link>https://resources.ani.rip/2024-4/%5BANi%5D%20%E6%88%91%E7%9A%84%E8%8B%B1%E9%9B%84%E5%AD%B8%E9%99%A2%20%E7%AC%AC%E4%B8%83%E5%AD%A3%20-%2001%20%5B1080P%5D%5BBaha%5D%5BWEB-DL%5D%5BAAC%20AVC%5D%5BCHT%5D.mp4?d=true</link><guid isPermaLink=\"true\">https://resources.ani.rip/2024-4/%5BANi%5D%20%E6%88%91%E7%9A%84%E8%8B%B1%E9%9B%84%E5%AD%B8%E9%99%A2%20%E7%AC%AC%E4%B8%83%E5%AD%A3%20-%2001%20%5B1080P%5D%5BBaha%5D%5BWEB-DL%5D%5BAAC%20AVC%5D%5BCHT%5D.mp4?d=true</guid><pubDate>Sat, 06 Apr 2024 09:31:37 GMT</pubDate><anime:size>796.3  MB</anime:size></item><item><title><![CDATA[[ANi] 單人房、日照一般、附天使。 - 01 [1080P][Baha][WEB-DL][AAC AVC][CHT].mp4]]></title><link>https://resources.ani.rip/2024-4/%5BANi%5D%20%E5%96%AE%E4%BA%BA%E6%88%BF%E3%80%81%E6%97%A5%E7%85%A7%E4%B8%80%E8%88%AC%E3%80%81%E9%99%84%E5%A4%A9%E4%BD%BF%E3%80%82%20-%2001%20%5B1080P%5D%5BBaha%5D%5BWEB-DL%5D%5BAAC%20AVC%5D%5BCHT%5D.mp4?d=true</link><guid isPermaLink=\"true\">https://resources.ani.rip/2024-4/%5BANi%5D%20%E5%96%AE%E4%BA%BA%E6%88%BF%E3%80%81%E6%97%A5%E7%85%A7%E4%B8%80%E8%88%AC%E3%80%81%E9%99%84%E5%A4%A9%E4%BD%BF%E3%80%82%20-%2001%20%5B1080P%5D%5BBaha%5D%5BWEB-DL%5D%5BAAC%20AVC%5D%5BCHT%5D.mp4?d=true</guid><pubDate>Sat, 06 Apr 2024 14:01:18 GMT</pubDate><anime:size>356.4  MB</anime:size></item><item><title><![CDATA[[ANi] 龍族 - 特別篇 [1080P][Baha][WEB-DL][AAC AVC][CHT].mp4]]></title><link>https://resources.ani.rip/2024-4/%5BANi%5D%20%E9%BE%8D%E6%97%8F%20-%20%E7%89%B9%E5%88%A5%E7%AF%87%20%5B1080P%5D%5BBaha%5D%5BWEB-DL%5D%5BAAC%20AVC%5D%5BCHT%5D.mp4?d=true</link><guid isPermaLink=\"true\">https://resources.ani.rip/2024-4/%5BANi%5D%20%E9%BE%8D%E6%97%8F%20-%20%E7%89%B9%E5%88%A5%E7%AF%87%20%5B1080P%5D%5BBaha%5D%5BWEB-DL%5D%5BAAC%20AVC%5D%5BCHT%5D.mp4?d=true</guid><pubDate>Sat, 06 Apr 2024 15:01:42 GMT</pubDate><anime:size>838.8  MB</anime:size></item><item><title><![CDATA[[ANi] 夜晚的水母不會游泳 - 01 [1080P][Baha][WEB-DL][AAC AVC][CHT].mp4]]></title><link>https://resources.ani.rip/%5BANi%5D%20%E5%A4%9C%E6%99%9A%E7%9A%84%E6%B0%B4%E6%AF%8D%E4%B8%8D%E6%9C%83%E6%B8%B8%E6%B3%B3%20-%2001%20%5B1080P%5D%5BBaha%5D%5BWEB-DL%5D%5BAAC%20AVC%5D%5BCHT%5D.mp4?d=true</link><guid isPermaLink=\"true\">https://resources.ani.rip/%5BANi%5D%20%E5%A4%9C%E6%99%9A%E7%9A%84%E6%B0%B4%E6%AF%8D%E4%B8%8D%E6%9C%83%E6%B8%B8%E6%B3%B3%20-%2001%20%5B1080P%5D%5BBaha%5D%5BWEB-DL%5D%5BAAC%20AVC%5D%5BCHT%5D.mp4?d=true</guid><pubDate>Sat, 06 Apr 2024 16:32:12 GMT</pubDate><anime:size>477.0  MB</anime:size></item><item><title><![CDATA[[ANi] 夜晚的水母不會游泳 - 01 [1080P][Baha][WEB-DL][AAC AVC][CHT].mp4]]></title><link>https://resources.ani.rip/2024-4/%5BANi%5D%20%E5%A4%9C%E6%99%9A%E7%9A%84%E6%B0%B4%E6%AF%8D%E4%B8%8D%E6%9C%83%E6%B8%B8%E6%B3%B3%20-%2001%20%5B1080P%5D%5BBaha%5D%5BWEB-DL%5D%5BAAC%20AVC%5D%5BCHT%5D.mp4?d=true</link><guid isPermaLink=\"true\">https://resources.ani.rip/2024-4/%5BANi%5D%20%E5%A4%9C%E6%99%9A%E7%9A%84%E6%B0%B4%E6%AF%8D%E4%B8%8D%E6%9C%83%E6%B8%B8%E6%B3%B3%20-%2001%20%5B1080P%5D%5BBaha%5D%5BWEB-DL%5D%5BAAC%20AVC%5D%5BCHT%5D.mp4?d=true</guid><pubDate>Sat, 06 Apr 2024 16:34:00 GMT</pubDate><anime:size>477.0  MB</anime:size></item><item><title><![CDATA[[ANi] 夜櫻家大作戰 - 01 [1080P][Baha][WEB-DL][AAC AVC][CHT].mp4]]></title><link>https://resources.ani.rip/2024-4/%5BANi%5D%20%E5%A4%9C%E6%AB%BB%E5%AE%B6%E5%A4%A7%E4%BD%9C%E6%88%B0%20-%2001%20%5B1080P%5D%5BBaha%5D%5BWEB-DL%5D%5BAAC%20AVC%5D%5BCHT%5D.mp4?d=true</link><guid isPermaLink=\"true\">https://resources.ani.rip/2024-4/%5BANi%5D%20%E5%A4%9C%E6%AB%BB%E5%AE%B6%E5%A4%A7%E4%BD%9C%E6%88%B0%20-%2001%20%5B1080P%5D%5BBaha%5D%5BWEB-DL%5D%5BAAC%20AVC%5D%5BCHT%5D.mp4?d=true</guid><pubDate>Sun, 07 Apr 2024 08:31:22 GMT</pubDate><anime:size>350.9  MB</anime:size></item><item><title><![CDATA[[ANi] 隊長小翼 Season2 青少年篇 - 27 [1080P][Baha][WEB-DL][AAC AVC][CHT].mp4]]></title><link>https://resources.ani.rip/2023-10/%5BANi%5D%20%E9%9A%8A%E9%95%B7%E5%B0%8F%E7%BF%BC%20Season2%20%E9%9D%92%E5%B0%91%E5%B9%B4%E7%AF%87%20-%2027%20%5B1080P%5D%5BBaha%5D%5BWEB-DL%5D%5BAAC%20AVC%5D%5BCHT%5D.mp4?d=true</link><guid isPermaLink=\"true\">https://resources.ani.rip/2023-10/%5BANi%5D%20%E9%9A%8A%E9%95%B7%E5%B0%8F%E7%BF%BC%20Season2%20%E9%9D%92%E5%B0%91%E5%B9%B4%E7%AF%87%20-%2027%20%5B1080P%5D%5BBaha%5D%5BWEB-DL%5D%5BAAC%20AVC%5D%5BCHT%5D.mp4?d=true</guid><pubDate>Sun, 07 Apr 2024 09:31:10 GMT</pubDate><anime:size>432.1  MB</anime:size></item><item><title><![CDATA[[ANi] 吹響吧！上低音號 第三季（僅限港澳台地區） - 01 [1080P][Bilibili][WEB-DL][AAC AVC][CHT CHS].mp4]]></title><link>https://resources.ani.rip/2024-4/%5BANi%5D%20%E5%90%B9%E9%9F%BF%E5%90%A7%EF%BC%81%E4%B8%8A%E4%BD%8E%E9%9F%B3%E8%99%9F%20%E7%AC%AC%E4%B8%89%E5%AD%A3%EF%BC%88%E5%83%85%E9%99%90%E6%B8%AF%E6%BE%B3%E5%8F%B0%E5%9C%B0%E5%8D%80%EF%BC%89%20-%2001%20%5B1080P%5D%5BBilibili%5D%5BWEB-DL%5D%5BAAC%20AVC%5D%5BCHT%20CHS%5D.mp4?d=true</link><guid isPermaLink=\"true\">https://resources.ani.rip/2024-4/%5BANi%5D%20%E5%90%B9%E9%9F%BF%E5%90%A7%EF%BC%81%E4%B8%8A%E4%BD%8E%E9%9F%B3%E8%99%9F%20%E7%AC%AC%E4%B8%89%E5%AD%A3%EF%BC%88%E5%83%85%E9%99%90%E6%B8%AF%E6%BE%B3%E5%8F%B0%E5%9C%B0%E5%8D%80%EF%BC%89%20-%2001%20%5B1080P%5D%5BBilibili%5D%5BWEB-DL%5D%5BAAC%20AVC%5D%5BCHT%20CHS%5D.mp4?d=true</guid><pubDate>Sun, 07 Apr 2024 10:18:29 GMT</pubDate><anime:size>287.1  MB</anime:size><anime:vtt>https://resources.ani.rip/2024-4/%5BANi%5D%20%E5%90%B9%E9%9F%BF%E5%90%A7%EF%BC%81%E4%B8%8A%E4%BD%8E%E9%9F%B3%E8%99%9F%20%E7%AC%AC%E4%B8%89%E5%AD%A3%EF%BC%88%E5%83%85%E9%99%90%E6%B8%AF%E6%BE%B3%E5%8F%B0%E5%9C%B0%E5%8D%80%EF%BC%89%20-%2001%20%5B1080P%5D%5BBilibili%5D%5BWEB-DL%5D%5BAAC%20AVC%5D%5BCHT%20CHS%5D.vtt</anime:vtt><anime:srt>https://resources.ani.rip/2024-4/%5BANi%5D%20%E5%90%B9%E9%9F%BF%E5%90%A7%EF%BC%81%E4%B8%8A%E4%BD%8E%E9%9F%B3%E8%99%9F%20%E7%AC%AC%E4%B8%89%E5%AD%A3%EF%BC%88%E5%83%85%E9%99%90%E6%B8%AF%E6%BE%B3%E5%8F%B0%E5%9C%B0%E5%8D%80%EF%BC%89%20-%2001%20%5B1080P%5D%5BBilibili%5D%5BWEB-DL%5D%5BAAC%20AVC%5D%5BCHT%20CHS%5D.srt</anime:srt></item><item><title><![CDATA[[ANi] 死神少爺與黑女僕 第三季 - 01 [1080P][Baha][WEB-DL][AAC AVC][CHT].mp4]]></title><link>https://resources.ani.rip/2024-4/%5BANi%5D%20%E6%AD%BB%E7%A5%9E%E5%B0%91%E7%88%BA%E8%88%87%E9%BB%91%E5%A5%B3%E5%83%95%20%E7%AC%AC%E4%B8%89%E5%AD%A3%20-%2001%20%5B1080P%5D%5BBaha%5D%5BWEB-DL%5D%5BAAC%20AVC%5D%5BCHT%5D.mp4?d=true</link><guid isPermaLink=\"true\">https://resources.ani.rip/2024-4/%5BANi%5D%20%E6%AD%BB%E7%A5%9E%E5%B0%91%E7%88%BA%E8%88%87%E9%BB%91%E5%A5%B3%E5%83%95%20%E7%AC%AC%E4%B8%89%E5%AD%A3%20-%2001%20%5B1080P%5D%5BBaha%5D%5BWEB-DL%5D%5BAAC%20AVC%5D%5BCHT%5D.mp4?d=true</guid><pubDate>Sun, 07 Apr 2024 14:01:46 GMT</pubDate><anime:size>387.8  MB</anime:size></item><item><title><![CDATA[[ANi] 老夫老妻重返青春 - 01 [1080P][Baha][WEB-DL][AAC AVC][CHT].mp4]]></title><link>https://resources.ani.rip/2024-4/%5BANi%5D%20%E8%80%81%E5%A4%AB%E8%80%81%E5%A6%BB%E9%87%8D%E8%BF%94%E9%9D%92%E6%98%A5%20-%2001%20%5B1080P%5D%5BBaha%5D%5BWEB-DL%5D%5BAAC%20AVC%5D%5BCHT%5D.mp4?d=true</link><guid isPermaLink=\"true\">https://resources.ani.rip/2024-4/%5BANi%5D%20%E8%80%81%E5%A4%AB%E8%80%81%E5%A6%BB%E9%87%8D%E8%BF%94%E9%9D%92%E6%98%A5%20-%2001%20%5B1080P%5D%5BBaha%5D%5BWEB-DL%5D%5BAAC%20AVC%5D%5BCHT%5D.mp4?d=true</guid><pubDate>Sun, 07 Apr 2024 14:32:03 GMT</pubDate><anime:size>670.8  MB</anime:size></item><item><title><![CDATA[[ANi] 無職轉生～到了異世界就拿出真本事 第二季 - 13 [1080P][Baha][WEB-DL][AAC AVC][CHT].mp4]]></title><link>https://resources.ani.rip/2024-4/%5BANi%5D%20%E7%84%A1%E8%81%B7%E8%BD%89%E7%94%9F%EF%BD%9E%E5%88%B0%E4%BA%86%E7%95%B0%E4%B8%96%E7%95%8C%E5%B0%B1%E6%8B%BF%E5%87%BA%E7%9C%9F%E6%9C%AC%E4%BA%8B%20%E7%AC%AC%E4%BA%8C%E5%AD%A3%20-%2013%20%5B1080P%5D%5BBaha%5D%5BWEB-DL%5D%5BAAC%20AVC%5D%5BCHT%5D.mp4?d=true</link><guid isPermaLink=\"true\">https://resources.ani.rip/2024-4/%5BANi%5D%20%E7%84%A1%E8%81%B7%E8%BD%89%E7%94%9F%EF%BD%9E%E5%88%B0%E4%BA%86%E7%95%B0%E4%B8%96%E7%95%8C%E5%B0%B1%E6%8B%BF%E5%87%BA%E7%9C%9F%E6%9C%AC%E4%BA%8B%20%E7%AC%AC%E4%BA%8C%E5%AD%A3%20-%2013%20%5B1080P%5D%5BBaha%5D%5BWEB-DL%5D%5BAAC%20AVC%5D%5BCHT%5D.mp4?d=true</guid><pubDate>Sun, 07 Apr 2024 15:01:17 GMT</pubDate><anime:size>625.4  MB</anime:size></item><item><title><![CDATA[[ANi] 轉生貴族憑鑑定技能扭轉人生 - 01 [1080P][Baha][WEB-DL][AAC AVC][CHT].mp4]]></title><link>https://resources.ani.rip/2024-4/%5BANi%5D%20%E8%BD%89%E7%94%9F%E8%B2%B4%E6%97%8F%E6%86%91%E9%91%91%E5%AE%9A%E6%8A%80%E8%83%BD%E6%89%AD%E8%BD%89%E4%BA%BA%E7%94%9F%20-%2001%20%5B1080P%5D%5BBaha%5D%5BWEB-DL%5D%5BAAC%20AVC%5D%5BCHT%5D.mp4?d=true</link><guid isPermaLink=\"true\">https://resources.ani.rip/2024-4/%5BANi%5D%20%E8%BD%89%E7%94%9F%E8%B2%B4%E6%97%8F%E6%86%91%E9%91%91%E5%AE%9A%E6%8A%80%E8%83%BD%E6%89%AD%E8%BD%89%E4%BA%BA%E7%94%9F%20-%2001%20%5B1080P%5D%5BBaha%5D%5BWEB-DL%5D%5BAAC%20AVC%5D%5BCHT%5D.mp4?d=true</guid><pubDate>Sun, 07 Apr 2024 15:02:39 GMT</pubDate><anime:size>401.2  MB</anime:size></item><item><title><![CDATA[[ANi] 蔚藍檔案 The Animation - 01 [1080P][Baha][WEB-DL][AAC AVC][CHT].mp4]]></title><link>https://resources.ani.rip/2024-4/%5BANi%5D%20%E8%94%9A%E8%97%8D%E6%AA%94%E6%A1%88%20The%20Animation%20-%2001%20%5B1080P%5D%5BBaha%5D%5BWEB-DL%5D%5BAAC%20AVC%5D%5BCHT%5D.mp4?d=true</link><guid isPermaLink=\"true\">https://resources.ani.rip/2024-4/%5BANi%5D%20%E8%94%9A%E8%97%8D%E6%AA%94%E6%A1%88%20The%20Animation%20-%2001%20%5B1080P%5D%5BBaha%5D%5BWEB-DL%5D%5BAAC%20AVC%5D%5BCHT%5D.mp4?d=true</guid><pubDate>Sun, 07 Apr 2024 15:31:42 GMT</pubDate><anime:size>418.7  MB</anime:size></item><item><title><![CDATA[[ANi] 戽斗星球 - 05 [1080P][Baha][WEB-DL][AAC AVC][CHT].mp4]]></title><link>https://resources.ani.rip/2023-10/%5BANi%5D%20%E6%88%BD%E6%96%97%E6%98%9F%E7%90%83%20-%2005%20%5B1080P%5D%5BBaha%5D%5BWEB-DL%5D%5BAAC%20AVC%5D%5BCHT%5D.mp4?d=true</link><guid isPermaLink=\"true\">https://resources.ani.rip/2023-10/%5BANi%5D%20%E6%88%BD%E6%96%97%E6%98%9F%E7%90%83%20-%2005%20%5B1080P%5D%5BBaha%5D%5BWEB-DL%5D%5BAAC%20AVC%5D%5BCHT%5D.mp4?d=true</guid><pubDate>Mon, 08 Apr 2024 12:31:07 GMT</pubDate><anime:size>218.0  MB</anime:size></item><item><title><![CDATA[[ANi] 神明渴求著遊戲。 - 02 [1080P][Baha][WEB-DL][AAC AVC][CHT].mp4]]></title><link>https://resources.ani.rip/2024-4/%5BANi%5D%20%E7%A5%9E%E6%98%8E%E6%B8%B4%E6%B1%82%E8%91%97%E9%81%8A%E6%88%B2%E3%80%82%20-%2002%20%5B1080P%5D%5BBaha%5D%5BWEB-DL%5D%5BAAC%20AVC%5D%5BCHT%5D.mp4?d=true</link><guid isPermaLink=\"true\">https://resources.ani.rip/2024-4/%5BANi%5D%20%E7%A5%9E%E6%98%8E%E6%B8%B4%E6%B1%82%E8%91%97%E9%81%8A%E6%88%B2%E3%80%82%20-%2002%20%5B1080P%5D%5BBaha%5D%5BWEB-DL%5D%5BAAC%20AVC%5D%5BCHT%5D.mp4?d=true</guid><pubDate>Mon, 08 Apr 2024 12:31:43 GMT</pubDate><anime:size>734.2  MB</anime:size></item><item><title><![CDATA[[ANi] 從 Lv2 開始開外掛的前勇者候補過著悠哉異世界生活 - 01 [1080P][Baha][WEB-DL][AAC AVC][CHT].mp4]]></title><link>https://resources.ani.rip/2024-4/%5BANi%5D%20%E5%BE%9E%20Lv2%20%E9%96%8B%E5%A7%8B%E9%96%8B%E5%A4%96%E6%8E%9B%E7%9A%84%E5%89%8D%E5%8B%87%E8%80%85%E5%80%99%E8%A3%9C%E9%81%8E%E8%91%97%E6%82%A0%E5%93%89%E7%95%B0%E4%B8%96%E7%95%8C%E7%94%9F%E6%B4%BB%20-%2001%20%5B1080P%5D%5BBaha%5D%5BWEB-DL%5D%5BAAC%20AVC%5D%5BCHT%5D.mp4?d=true</link><guid isPermaLink=\"true\">https://resources.ani.rip/2024-4/%5BANi%5D%20%E5%BE%9E%20Lv2%20%E9%96%8B%E5%A7%8B%E9%96%8B%E5%A4%96%E6%8E%9B%E7%9A%84%E5%89%8D%E5%8B%87%E8%80%85%E5%80%99%E8%A3%9C%E9%81%8E%E8%91%97%E6%82%A0%E5%93%89%E7%95%B0%E4%B8%96%E7%95%8C%E7%94%9F%E6%B4%BB%20-%2001%20%5B1080P%5D%5BBaha%5D%5BWEB-DL%5D%5BAAC%20AVC%5D%5BCHT%5D.mp4?d=true</guid><pubDate>Mon, 08 Apr 2024 14:07:54 GMT</pubDate><anime:size>410.6  MB</anime:size></item><item><title><![CDATA[[ANi] 月光下的異世界之旅 第二季 - 14 [1080P][Baha][WEB-DL][AAC AVC][CHT].mp4]]></title><link>https://resources.ani.rip/2024-1/%5BANi%5D%20%E6%9C%88%E5%85%89%E4%B8%8B%E7%9A%84%E7%95%B0%E4%B8%96%E7%95%8C%E4%B9%8B%E6%97%85%20%E7%AC%AC%E4%BA%8C%E5%AD%A3%20-%2014%20%5B1080P%5D%5BBaha%5D%5BWEB-DL%5D%5BAAC%20AVC%5D%5BCHT%5D.mp4?d=true</link><guid isPermaLink=\"true\">https://resources.ani.rip/2024-1/%5BANi%5D%20%E6%9C%88%E5%85%89%E4%B8%8B%E7%9A%84%E7%95%B0%E4%B8%96%E7%95%8C%E4%B9%8B%E6%97%85%20%E7%AC%AC%E4%BA%8C%E5%AD%A3%20-%2014%20%5B1080P%5D%5BBaha%5D%5BWEB-DL%5D%5BAAC%20AVC%5D%5BCHT%5D.mp4?d=true</guid><pubDate>Mon, 08 Apr 2024 15:01:12 GMT</pubDate><anime:size>349.0  MB</anime:size></item><item><title><![CDATA[[ANi] Re：Monster - 02 [1080P][Baha][WEB-DL][AAC AVC][CHT].mp4]]></title><link>https://resources.ani.rip/2024-4/%5BANi%5D%20Re%EF%BC%9AMonster%20-%2002%20%5B1080P%5D%5BBaha%5D%5BWEB-DL%5D%5BAAC%20AVC%5D%5BCHT%5D.mp4?d=true</link><guid isPermaLink=\"true\">https://resources.ani.rip/2024-4/%5BANi%5D%20Re%EF%BC%9AMonster%20-%2002%20%5B1080P%5D%5BBaha%5D%5BWEB-DL%5D%5BAAC%20AVC%5D%5BCHT%5D.mp4?d=true</guid><pubDate>Mon, 08 Apr 2024 15:13:36 GMT</pubDate><anime:size>538.7  MB</anime:size></item><item><title><![CDATA[[ANi] 轉生為第七王子，隨心所欲的魔法學習之路 - 02 [1080P][Baha][WEB-DL][AAC AVC][CHT].mp4]]></title><link>https://resources.ani.rip/2024-4/%5BANi%5D%20%E8%BD%89%E7%94%9F%E7%82%BA%E7%AC%AC%E4%B8%83%E7%8E%8B%E5%AD%90%EF%BC%8C%E9%9A%A8%E5%BF%83%E6%89%80%E6%AC%B2%E7%9A%84%E9%AD%94%E6%B3%95%E5%AD%B8%E7%BF%92%E4%B9%8B%E8%B7%AF%20-%2002%20%5B1080P%5D%5BBaha%5D%5BWEB-DL%5D%5BAAC%20AVC%5D%5BCHT%5D.mp4?d=true</link><guid isPermaLink=\"true\">https://resources.ani.rip/2024-4/%5BANi%5D%20%E8%BD%89%E7%94%9F%E7%82%BA%E7%AC%AC%E4%B8%83%E7%8E%8B%E5%AD%90%EF%BC%8C%E9%9A%A8%E5%BF%83%E6%89%80%E6%AC%B2%E7%9A%84%E9%AD%94%E6%B3%95%E5%AD%B8%E7%BF%92%E4%B9%8B%E8%B7%AF%20-%2002%20%5B1080P%5D%5BBaha%5D%5BWEB-DL%5D%5BAAC%20AVC%5D%5BCHT%5D.mp4?d=true</guid><pubDate>Mon, 08 Apr 2024 16:31:19 GMT</pubDate><anime:size>561.0  MB</anime:size></item></channel></rss>'"
      ]
     },
     "execution_count": 28,
     "metadata": {},
     "output_type": "execute_result"
    }
   ],
   "source": [
    "    for item in reversed(ET.parse(RSS_PATH).getroot().findall('./channel/item')):\n",
    "        title = item.find(\"title\").text\n",
    "        link = item.find(\"link\").text\n",
    "        size_elem = [child for child in item if child.tag.endswith(\"size\")]\n",
    "        size = None\n",
    "        if len(size_elem)==1:\n",
    "            size = int(float(size_elem[0].text.split(\" \")[0])*1024*1024)\n",
    "\n",
    "        if name in title:\n",
    "            print(f\"发现视频 {title}\")"
   ]
  },
  {
   "cell_type": "code",
   "execution_count": 3,
   "metadata": {},
   "outputs": [],
   "source": [
    "import urllib"
   ]
  },
  {
   "cell_type": "code",
   "execution_count": 8,
   "metadata": {},
   "outputs": [
    {
     "data": {
      "text/plain": [
       "'%E8%A7%A3%E7%A0%81'"
      ]
     },
     "execution_count": 8,
     "metadata": {},
     "output_type": "execute_result"
    }
   ],
   "source": []
  },
  {
   "cell_type": "code",
   "execution_count": null,
   "metadata": {},
   "outputs": [],
   "source": []
  }
 ],
 "metadata": {
  "kernelspec": {
   "display_name": "Python 3",
   "language": "python",
   "name": "python3"
  },
  "language_info": {
   "codemirror_mode": {
    "name": "ipython",
    "version": 3
   },
   "file_extension": ".py",
   "mimetype": "text/x-python",
   "name": "python",
   "nbconvert_exporter": "python",
   "pygments_lexer": "ipython3",
   "version": "3.10.13"
  }
 },
 "nbformat": 4,
 "nbformat_minor": 2
}
